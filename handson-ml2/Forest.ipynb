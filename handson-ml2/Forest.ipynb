{
 "metadata": {
  "language_info": {
   "codemirror_mode": {
    "name": "ipython",
    "version": 3
   },
   "file_extension": ".py",
   "mimetype": "text/x-python",
   "name": "python",
   "nbconvert_exporter": "python",
   "pygments_lexer": "ipython3",
   "version": "3.8.5-final"
  },
  "orig_nbformat": 2,
  "kernelspec": {
   "name": "python_defaultSpec_1599853991350",
   "display_name": "Python 3.8.5 64-bit"
  }
 },
 "nbformat": 4,
 "nbformat_minor": 2,
 "cells": [
  {
   "cell_type": "code",
   "execution_count": 1,
   "metadata": {},
   "outputs": [],
   "source": [
    "# %load ../helpers/header.py\n",
    "\n",
    "SUB_DIR = \"Forest\"\n",
    "\n",
    "# load ENV path to project from .profile \n",
    "import os, sys\n",
    "PROJECT_ROOT_DIR=os.environ.get('ML_PATH')\n",
    "sys.path.append(os.path.join(PROJECT_ROOT_DIR, \"helpers\")) # add helper modules to path\n",
    "\n",
    "# MPL \n",
    "import MPL_header #load common MPL imports (from helpers)\n",
    "import matplotlib.pyplot as plt\n",
    "%matplotlib inline \n",
    "# %matplotlib widget \n",
    "\n",
    "# NP, constant seed, PD \n",
    "import numpy as np\n",
    "np.random.seed(12345)\n",
    "import pandas as pd\n",
    "\n",
    "# Where to save the figures\n",
    "IMAGES_PATH = os.path.join(PROJECT_ROOT_DIR, \"fig\", SUB_DIR)\n",
    "# IMAGES_PATH = os.path.join(PROJECT_ROOT_DIR, \"fig\")\n",
    "os.makedirs(IMAGES_PATH, exist_ok=True)\n",
    "\n",
    "def save_fig(fig_id, tight_layout=True, fig_extension=\"png\", resolution=300):\n",
    "    path = os.path.join(IMAGES_PATH, fig_id + \".\" + fig_extension)\n",
    "    print(\"Saving figure\", fig_id)\n",
    "    if tight_layout:\n",
    "        plt.tight_layout()\n",
    "    plt.savefig(path, format=fig_extension, dpi=resolution)"
   ]
  },
  {
   "cell_type": "code",
   "execution_count": null,
   "metadata": {},
   "outputs": [],
   "source": []
  }
 ]
}
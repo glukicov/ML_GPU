{
 "cells": [
  {
   "cell_type": "code",
   "execution_count": null,
   "metadata": {},
   "outputs": [],
   "source": []
  },
  {
   "cell_type": "code",
   "execution_count": 1,
   "metadata": {},
   "outputs": [
    {
     "data": {
      "text/plain": "'Darwin'"
     },
     "execution_count": 1,
     "metadata": {},
     "output_type": "execute_result"
    }
   ],
   "source": [
    "# Sanity-check that we are indeed running this notebook from Ubuntu\n",
    "import platform\n",
    "platform.system()"
   ]
  },
  {
   "cell_type": "code",
   "execution_count": 2,
   "metadata": {},
   "outputs": [
    {
     "data": {
      "text/plain": "[]"
     },
     "execution_count": 2,
     "metadata": {},
     "output_type": "execute_result"
    }
   ],
   "source": [
    "import tensorflow as tf\n",
    "tf.config.list_physical_devices('GPU')"
   ]
  },
  {
   "cell_type": "code",
   "execution_count": null,
   "metadata": {},
   "outputs": [],
   "source": [
    "tf.config.list_physical_devices('CPU')"
   ]
  },
  {
   "cell_type": "code",
   "execution_count": 3,
   "metadata": {
    "tags": []
   },
   "outputs": [
    {
     "name": "stdout",
     "output_type": "stream",
     "text": [
      "Package                        Version\n",
      "------------------------------ -------------------\n",
      "absl-py                        0.10.0\n",
      "apache-beam                    2.23.0\n",
      "appdirs                        1.4.4\n",
      "argon2-cffi                    20.1.0\n",
      "astor                          0.8.1\n",
      "atari-py                       0.2.6\n",
      "attrs                          20.1.0\n",
      "avro-python3                   1.9.2.1\n",
      "backcall                       0.2.0\n",
      "backports.functools-lru-cache  1.6.1\n",
      "bleach                         3.1.5\n",
      "blis                           0.4.1\n",
      "boto3                          1.14.50\n",
      "botocore                       1.17.50\n",
      "brotlipy                       0.7.0\n",
      "cachetools                     4.1.1\n",
      "catalogue                      1.0.0\n",
      "certifi                        2020.6.20\n",
      "cffi                           1.14.1\n",
      "chardet                        3.0.4\n",
      "click                          7.1.2\n",
      "cloudpickle                    1.3.0\n",
      "colorama                       0.4.3\n",
      "crcmod                         1.7\n",
      "cryptography                   3.1\n",
      "cycler                         0.10.0\n",
      "cymem                          2.0.3\n",
      "cytoolz                        0.10.1\n",
      "dask                           2.24.0\n",
      "decorator                      4.4.2\n",
      "defusedxml                     0.6.0\n",
      "dill                           0.3.2\n",
      "docker                         4.3.1\n",
      "docopt                         0.6.2\n",
      "docutils                       0.15.2\n",
      "EasyProcess                    0.3\n",
      "entrypoints                    0.3\n",
      "fastavro                       0.23.6\n",
      "fasteners                      0.15\n",
      "filelock                       3.0.12\n",
      "ftfy                           5.7\n",
      "future                         0.18.2\n",
      "gast                           0.2.2\n",
      "gin-config                     0.1.3\n",
      "gitdb                          4.0.5\n",
      "GitPython                      3.1.7\n",
      "google-api-core                1.22.1\n",
      "google-api-python-client       1.11.0\n",
      "google-apitools                0.5.31\n",
      "google-auth                    1.21.0\n",
      "google-auth-httplib2           0.0.4\n",
      "google-auth-oauthlib           0.4.1\n",
      "google-cloud-bigquery          1.24.0\n",
      "google-cloud-bigtable          1.0.0\n",
      "google-cloud-core              1.4.1\n",
      "google-cloud-datastore         1.7.4\n",
      "google-cloud-dlp               0.13.0\n",
      "google-cloud-language          1.3.0\n",
      "google-cloud-pubsub            1.0.2\n",
      "google-cloud-spanner           1.13.0\n",
      "google-cloud-videointelligence 1.13.0\n",
      "google-cloud-vision            0.42.0\n",
      "google-pasta                   0.2.0\n",
      "google-resumable-media         0.5.1\n",
      "googleapis-common-protos       1.52.0\n",
      "graphviz                       0.14.1\n",
      "grpc-google-iam-v1             0.12.3\n",
      "grpcio                         1.31.0\n",
      "grpcio-gcp                     0.2.2\n",
      "gym                            0.17.1\n",
      "h5py                           2.10.0\n",
      "hdfs                           2.5.8\n",
      "httplib2                       0.17.4\n",
      "idna                           2.8\n",
      "imageio                        2.6.1\n",
      "importlib-metadata             1.7.0\n",
      "ipykernel                      5.3.4\n",
      "ipython                        7.12.0\n",
      "ipython-genutils               0.2.0\n",
      "ipywidgets                     7.5.1\n",
      "jedi                           0.17.2\n",
      "Jinja2                         2.11.2\n",
      "jmespath                       0.10.0\n",
      "joblib                         0.14.1\n",
      "jsonschema                     3.2.0\n",
      "jupyter                        1.0.0\n",
      "jupyter-client                 6.1.7\n",
      "jupyter-console                6.1.0\n",
      "jupyter-core                   4.6.3\n",
      "Keras-Applications             1.0.8\n",
      "Keras-Preprocessing            1.1.2\n",
      "kiwisolver                     1.2.0\n",
      "Markdown                       3.2.2\n",
      "MarkupSafe                     1.1.1\n",
      "matplotlib                     3.1.3\n",
      "mistune                        0.8.4\n",
      "ml-metadata                    0.21.2\n",
      "mock                           2.0.0\n",
      "monotonic                      1.5\n",
      "murmurhash                     1.0.2\n",
      "nbconvert                      5.6.1\n",
      "nbdime                         2.0.0\n",
      "nbformat                       5.0.7\n",
      "networkx                       2.5\n",
      "nltk                           3.4.4\n",
      "notebook                       6.1.3\n",
      "numexpr                        2.7.1\n",
      "numpy                          1.18.5\n",
      "oauth2client                   3.0.0\n",
      "oauthlib                       3.1.0\n",
      "olefile                        0.46\n",
      "opencv-python                  4.2.0.32\n",
      "opt-einsum                     3.3.0\n",
      "packaging                      20.4\n",
      "pandas                         0.25.3\n",
      "pandocfilters                  1.4.2\n",
      "parso                          0.7.1\n",
      "pbr                            5.4.5\n",
      "pexpect                        4.8.0\n",
      "pickleshare                    0.7.5\n",
      "Pillow                         7.0.0\n",
      "pip                            20.2.2\n",
      "plac                           1.1.3\n",
      "preshed                        3.0.2\n",
      "prometheus-client              0.8.0\n",
      "promise                        2.3\n",
      "prompt-toolkit                 3.0.6\n",
      "protobuf                       3.13.0\n",
      "psutil                         5.7.2\n",
      "ptyprocess                     0.6.0\n",
      "pyarrow                        1.0.1\n",
      "pyasn1                         0.4.8\n",
      "pyasn1-modules                 0.2.8\n",
      "pycparser                      2.20\n",
      "pydot                          1.4.1\n",
      "pyglet                         1.5.0\n",
      "Pygments                       2.6.1\n",
      "pymongo                        3.11.0\n",
      "PyOpenGL                       3.1.5\n",
      "pyOpenSSL                      19.1.0\n",
      "pyparsing                      2.4.7\n",
      "pyrsistent                     0.16.0\n",
      "PySocks                        1.7.1\n",
      "python-dateutil                2.8.1\n",
      "pytz                           2020.1\n",
      "PyVirtualDisplay               1.3.2\n",
      "PyWavelets                     1.1.1\n",
      "PyYAML                         5.3.1\n",
      "pyzmq                          19.0.2\n",
      "qtconsole                      4.7.6\n",
      "QtPy                           1.9.0\n",
      "regex                          2020.7.14\n",
      "requests                       2.22.0\n",
      "requests-oauthlib              1.3.0\n",
      "rsa                            4.6\n",
      "s3transfer                     0.3.3\n",
      "sacremoses                     0.0.43\n",
      "scikit-image                   0.16.2\n",
      "scikit-learn                   0.21.3\n",
      "scipy                          1.4.1\n",
      "Send2Trash                     1.5.0\n",
      "sentencepiece                  0.1.91\n",
      "setuptools                     49.6.0.post20200814\n",
      "six                            1.15.0\n",
      "smmap                          3.0.4\n",
      "spacy                          2.2.4\n",
      "srsly                          1.0.2\n",
      "tensorboard                    2.1.1\n",
      "tensorflow                     2.1.0\n",
      "tensorflow-addons              0.8.3\n",
      "tensorflow-data-validation     0.21.5\n",
      "tensorflow-datasets            2.1.0\n",
      "tensorflow-estimator           2.1.0\n",
      "tensorflow-hub                 0.7.0\n",
      "tensorflow-metadata            0.21.1\n",
      "tensorflow-model-analysis      0.21.6\n",
      "tensorflow-probability         0.9.0\n",
      "tensorflow-serving-api         2.1.0\n",
      "tensorflow-transform           0.21.2\n",
      "termcolor                      1.1.0\n",
      "terminado                      0.8.3\n",
      "testpath                       0.4.4\n",
      "tf-agents                      0.3.0\n",
      "tfx                            0.21.2\n",
      "tfx-bsl                        0.21.4\n",
      "thinc                          7.4.0\n",
      "tokenizers                     0.5.2\n",
      "toolz                          0.10.0\n",
      "tornado                        6.0.4\n",
      "tqdm                           4.43.0\n",
      "traitlets                      4.3.3\n",
      "transformers                   2.8.0\n",
      "typeguard                      2.9.1\n",
      "typing-extensions              3.7.4.3\n",
      "uritemplate                    3.0.1\n",
      "uritools                       3.0.0\n",
      "urlextract                     0.14.0\n",
      "urllib3                        1.25.10\n",
      "wasabi                         0.8.0\n",
      "wcwidth                        0.2.5\n",
      "webencodings                   0.5.1\n",
      "websocket-client               0.57.0\n",
      "Werkzeug                       1.0.1\n",
      "wheel                          0.35.1\n",
      "widgetsnbextension             3.5.1\n",
      "wrapt                          1.12.1\n",
      "zipp                           3.1.0\n"
     ]
    }
   ],
   "source": [
    "import sys\n",
    "!{sys.executable} -m pip list"
   ]
  },
  {
   "cell_type": "code",
   "execution_count": null,
   "metadata": {},
   "outputs": [],
   "source": [
    "import sys\n",
    "!{sys.executable} -m pip install nodejs"
   ]
  },
  {
   "cell_type": "code",
   "execution_count": 3,
   "metadata": {},
   "outputs": [],
   "source": [
    "# import sys\n",
    "# !{sys.executable} -m pip install tensorflow-serving-api tensorboard tensorboard-plugin-profile tensorflow-datasets tensorflow-hub tensorflow-probability"
   ]
  },
  {
   "cell_type": "code",
   "execution_count": 2,
   "metadata": {},
   "outputs": [],
   "source": [
    "# !{sys.executable} -m pip install atari_py"
   ]
  },
  {
   "cell_type": "code",
   "execution_count": 1,
   "metadata": {},
   "outputs": [],
   "source": [
    "# !{sys.executable} -m pip install imageio Pillow scikit-image graphviz pydot opencv-python pyglet joblib requests nbdime numexpr"
   ]
  }
 ],
 "metadata": {
  "kernelspec": {
   "display_name": "Python 3.7.9 64-bit",
   "metadata": {
    "interpreter": {
     "hash": "7a3d88c904243d2c3f246166597f86d1c0a39f3d97496d1fe394945d0c6d436d"
    }
   },
   "name": "python3"
  },
  "language_info": {
   "codemirror_mode": {
    "name": "ipython",
    "version": 3
   },
   "file_extension": ".py",
   "mimetype": "text/x-python",
   "name": "python",
   "nbconvert_exporter": "python",
   "pygments_lexer": "ipython3",
   "version": "3.7.9"
  }
 },
 "nbformat": 4,
 "nbformat_minor": 4
}